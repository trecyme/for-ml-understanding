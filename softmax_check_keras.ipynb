{
 "cells": [
  {
   "cell_type": "markdown",
   "metadata": {
    "collapsed": true
   },
   "source": [
    "# 测试softmax是怎么使用的"
   ]
  },
  {
   "cell_type": "code",
   "execution_count": 7,
   "metadata": {
    "collapsed": false
   },
   "outputs": [],
   "source": [
    "from keras.models import *\n",
    "from keras.layers import *\n",
    "import keras.losses as loss\n",
    "import numpy as np\n",
    "import warnings\n",
    "warnings.filterwarnings(\"ignore\")\n",
    "\n",
    "N_SAMPLES = 100\n",
    "N_EPOCHES = 10\n",
    "DIM_INPUT = 100\n",
    "DIM_OUTPUT = 10\n",
    "BATCH_SIZE = 32"
   ]
  },
  {
   "cell_type": "markdown",
   "metadata": {},
   "source": [
    "## 生成数据，构建模型"
   ]
  },
  {
   "cell_type": "code",
   "execution_count": 5,
   "metadata": {
    "collapsed": false
   },
   "outputs": [
    {
     "name": "stdout",
     "output_type": "stream",
     "text": [
      "generate data...\n",
      "x[:4] [[2 0 6 0 1 2 2 1 4 4 9 1 3 1 7 0 2 2 6 5 4 5 9 5 8 0 1 3 4 9 8 0 4 2 6 8\n",
      "  6 4 5 0 0 6 4 4 1 3 7 8 8 6 3 2 5 3 3 0 2 4 0 4 8 3 6 4 0 4 4 2 6 4 3 9\n",
      "  7 4 6 6 0 8 4 6 7 5 3 7 4 4 7 2 7 8 9 5 4 0 6 5 5 8 0 0]\n",
      " [5 8 2 3 9 5 7 3 7 5 9 9 4 9 1 4 8 4 8 8 7 5 9 4 3 3 0 7 4 7 7 4 6 7 3 1\n",
      "  1 4 2 6 1 4 5 6 5 7 7 3 2 3 0 0 6 1 8 8 3 3 5 2 9 1 9 4 0 9 1 6 2 2 2 5\n",
      "  4 1 1 2 8 2 6 8 4 9 8 7 3 9 3 0 4 3 2 9 6 9 6 9 0 4 4 5]\n",
      " [6 6 9 0 8 3 2 8 2 5 6 4 0 9 8 7 3 9 7 7 2 2 4 7 9 8 3 4 0 7 1 4 2 1 5 8\n",
      "  4 4 6 9 7 8 5 0 8 5 6 2 7 0 3 1 3 7 4 7 4 7 7 1 7 7 4 9 3 4 3 6 4 6 7 3\n",
      "  3 7 8 9 4 6 7 9 6 0 7 9 2 4 1 5 2 9 1 6 9 1 7 5 5 5 3 9]\n",
      " [2 8 1 9 0 2 2 3 1 7 9 6 9 3 7 9 9 9 2 9 7 6 5 3 0 8 5 9 6 0 2 8 3 7 1 7\n",
      "  4 4 1 1 3 8 0 5 7 7 9 0 5 8 6 7 2 3 1 8 3 5 5 3 7 7 5 3 6 9 7 6 4 7 9 0\n",
      "  0 2 8 2 9 3 7 9 2 4 6 0 4 0 7 9 0 3 5 1 0 6 8 7 9 8 8 8]]\n",
      "y[:4] [[0 1 0 0 0 0 0 0 0 0]\n",
      " [0 0 1 0 0 0 0 0 0 0]\n",
      " [0 0 0 0 0 0 0 1 0 0]\n",
      " [1 0 0 0 0 0 0 0 0 0]]\n"
     ]
    }
   ],
   "source": [
    "print('generate data...')\n",
    "x = np.random.randint(10, size=[N_SAMPLES, DIM_INPUT])\n",
    "y_indices = np.random.randint(10, size=N_SAMPLES)\n",
    "onehots = []\n",
    "for i in range(DIM_OUTPUT):\n",
    "    line = []\n",
    "    for j in range(DIM_OUTPUT):\n",
    "        if j == i:\n",
    "            line.append(1)\n",
    "        else:\n",
    "            line.append(0)\n",
    "    onehots.append(line)\n",
    "onehots = np.array(onehots)\n",
    "y = onehots[y_indices]\n",
    "\n",
    "print('x[:4]', x[:4])\n",
    "print('y[:4]', y[:4])"
   ]
  },
  {
   "cell_type": "code",
   "execution_count": 8,
   "metadata": {
    "collapsed": false
   },
   "outputs": [
    {
     "name": "stdout",
     "output_type": "stream",
     "text": [
      "build model...\n"
     ]
    }
   ],
   "source": [
    "print('build model...')\n",
    "input = Input(batch_shape=[None, DIM_INPUT])             # INPUT = BATCH_SIZE x DIM_INPUT\n",
    "interme = Dense(64, name='interme')(input)\n",
    "output = Dense(DIM_OUTPUT, activation='softmax')(interme)# W = DIM_INPUT x DIM_OUTPUT, b = DIM_OUTPUT\n",
    "model = Model(inputs=[input], output=[output], )         # OUTPUT = BATCH_SIZE x DIM_OUTPUT\n",
    "model.compile('adam', loss=loss.binary_crossentropy, metrics=['acc'])\n"
   ]
  },
  {
   "cell_type": "markdown",
   "metadata": {},
   "source": [
    "## 验证softmax是否是对最后一维归一化"
   ]
  },
  {
   "cell_type": "code",
   "execution_count": 10,
   "metadata": {
    "collapsed": false
   },
   "outputs": [
    {
     "name": "stdout",
     "output_type": "stream",
     "text": [
      "softmax result check...\n",
      "0.01\n",
      "0.00\n",
      "0.00\n",
      "0.00\n",
      "0.97\n",
      "0.00\n",
      "0.02\n",
      "0.00\n",
      "0.00\n",
      "0.00\n",
      "sum: 1.0000000121989143\n"
     ]
    }
   ],
   "source": [
    "print('softmax result check...')\n",
    "last_layer = Model(input=model.input, output=model.output)\n",
    "result_layer = last_layer.predict(x)\n",
    "last_sample_output = result_layer[-1]\n",
    "sum = 0\n",
    "for i in last_sample_output:\n",
    "    print('%.2f' % i)\n",
    "    sum += i\n",
    "print('sum:', sum)"
   ]
  },
  {
   "cell_type": "code",
   "execution_count": 11,
   "metadata": {
    "collapsed": false
   },
   "outputs": [
    {
     "name": "stdout",
     "output_type": "stream",
     "text": [
      "interme layer check...\n",
      "(100, 64)\n"
     ]
    }
   ],
   "source": [
    "print('interme layer check...')\n",
    "last_layer = Model(input=model.input, output=model.get_layer('interme').output)\n",
    "intermediate_output = last_layer.predict(x)\n",
    "print(intermediate_output.shape)"
   ]
  },
  {
   "cell_type": "markdown",
   "metadata": {},
   "source": [
    "## 结果\n",
    "softmax对最后一维归一化，并且有一定程度的精度损失"
   ]
  }
 ],
 "metadata": {
  "kernelspec": {
   "display_name": "Python 3",
   "language": "python",
   "name": "python3"
  },
  "language_info": {
   "codemirror_mode": {
    "name": "ipython",
    "version": 3
   },
   "file_extension": ".py",
   "mimetype": "text/x-python",
   "name": "python",
   "nbconvert_exporter": "python",
   "pygments_lexer": "ipython3",
   "version": "3.6.0"
  }
 },
 "nbformat": 4,
 "nbformat_minor": 0
}
