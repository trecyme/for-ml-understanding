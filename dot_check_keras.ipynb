{
 "cells": [
  {
   "cell_type": "code",
   "execution_count": null,
   "metadata": {
    "collapsed": false
   },
   "outputs": [],
   "source": [
    "from keras.layers import *\n",
    "from keras.models import Model\n",
    "from keras.losses import binary_crossentropy\n",
    "import numpy as np\n",
    "import warnings\n",
    "warnings.filterwarnings(\"ignore\")\n"
   ]
  },
  {
   "cell_type": "code",
   "execution_count": 6,
   "metadata": {
    "collapsed": true
   },
   "outputs": [],
   "source": [
    "DIM_EMBEDDING = 100\n",
    "LEN_VOC = 1000\n",
    "LSTM_UNIT1 = 32\n",
    "LSTM_UNIT2 = 16\n",
    "LEN_S1 = 50\n",
    "LEN_S2 = 40\n",
    "BATCH_SIZE = 8"
   ]
  },
  {
   "cell_type": "markdown",
   "metadata": {},
   "source": [
    "## 测试Dot层是否为矩阵乘法的结果"
   ]
  },
  {
   "cell_type": "code",
   "execution_count": 28,
   "metadata": {
    "collapsed": false
   },
   "outputs": [
    {
     "name": "stdout",
     "output_type": "stream",
     "text": [
      "__________________________________________________________________________________________________\n",
      "Layer (type)                    Output Shape         Param #     Connected to                     \n",
      "==================================================================================================\n",
      "sen1 (InputLayer)               (None, 3, 4)         0                                            \n",
      "__________________________________________________________________________________________________\n",
      "sen2 (InputLayer)               (None, 5, 4)         0                                            \n",
      "__________________________________________________________________________________________________\n",
      "s1_dot_s2 (Dot)                 (None, 3, 5)         0           sen1[0][0]                       \n",
      "                                                                 sen2[0][0]                       \n",
      "__________________________________________________________________________________________________\n",
      "s2_dot_s1 (Dot)                 (None, 5, 3)         0           sen2[0][0]                       \n",
      "                                                                 sen1[0][0]                       \n",
      "==================================================================================================\n",
      "Total params: 0\n",
      "Trainable params: 0\n",
      "Non-trainable params: 0\n",
      "__________________________________________________________________________________________________\n"
     ]
    }
   ],
   "source": [
    "len_s1 = 3\n",
    "len_s2 = 5\n",
    "dim_embedding = 4\n",
    "s1 = Input(batch_shape=[None, len_s1, dim_embedding], name='sen1')\n",
    "s2 = Input(batch_shape=[None, len_s2, dim_embedding], name='sen2')\n",
    "\n",
    "dot1 = Dot(axes=-1, name='s1_dot_s2')([s1, s2])\n",
    "dot2 = Dot(axes=-1, name='s2_dot_s1')([s2, s1])\n",
    "model = Model(inputs=[s1, s2], outputs=[dot1, dot2])\n",
    "model.compile(optimizer='sgd', loss=binary_crossentropy)\n",
    "model.summary()\n"
   ]
  },
  {
   "cell_type": "code",
   "execution_count": 29,
   "metadata": {
    "collapsed": false
   },
   "outputs": [
    {
     "name": "stdout",
     "output_type": "stream",
     "text": [
      "x1[:1]\n",
      "\n",
      " [[[5 8 6 3]\n",
      "  [1 1 5 7]\n",
      "  [0 4 5 9]]]\n",
      "x2[:1]\n",
      "\n",
      " [[[1 2 1 4]\n",
      "  [9 1 5 2]\n",
      "  [6 6 8 3]\n",
      "  [4 5 1 7]\n",
      "  [0 0 3 4]]]\n",
      "y1[:1]\n",
      "\n",
      " [[[ 39.  89. 135.  87.  30.]\n",
      "  [ 36.  49.  73.  63.  43.]\n",
      "  [ 49.  47.  91.  88.  51.]]]\n",
      "y2[:1]\n",
      "\n",
      " [[[ 39.  36.  49.]\n",
      "  [ 89.  49.  47.]\n",
      "  [135.  73.  91.]\n",
      "  [ 87.  63.  88.]\n",
      "  [ 30.  43.  51.]]]\n"
     ]
    }
   ],
   "source": [
    "x1 = np.random.randint(10, size=[BATCH_SIZE, len_s1, dim_embedding])\n",
    "x2 = np.random.randint(10, size=[BATCH_SIZE, len_s2, dim_embedding])\n",
    "print('x1[:1]\\n\\n', x1[:1])\n",
    "print('x2[:1]\\n\\n', x2[:1])\n",
    "y1, y2 = model.predict(x=[x1, x2])\n",
    "print('y1[:1]\\n\\n', y1[:1])\n",
    "print('y2[:1]\\n\\n', y2[:1])"
   ]
  },
  {
   "cell_type": "markdown",
   "metadata": {},
   "source": [
    "## 结果\n",
    "可以看出Dot能完成矩阵乘法，但前提是两者A/B相乘的维度相同，并且传入参数的顺序决定矩阵相乘时的顺序，如果是Dot(axes=-1)([A,B]),结果为C = A \\* B.T，如果顺序相反则为C = B \\* A.T"
   ]
  }
 ],
 "metadata": {
  "kernelspec": {
   "display_name": "Python 3",
   "language": "python",
   "name": "python3"
  },
  "language_info": {
   "codemirror_mode": {
    "name": "ipython",
    "version": 3
   },
   "file_extension": ".py",
   "mimetype": "text/x-python",
   "name": "python",
   "nbconvert_exporter": "python",
   "pygments_lexer": "ipython3",
   "version": "3.6.0"
  }
 },
 "nbformat": 4,
 "nbformat_minor": 0
}
